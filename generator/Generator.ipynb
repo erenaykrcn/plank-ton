{
 "cells": [
  {
   "cell_type": "code",
   "execution_count": null,
   "id": "a1fdf75e-0e47-4d08-83f8-1b7744e36ca7",
   "metadata": {},
   "outputs": [],
   "source": [
    "import yfinance as yf\n",
    "import pandas as pd\n",
    "df=pd.read_csv('data.csv')\n",
    "assets=df['Symbol'].tolist()\n",
    "results={}\n",
    "for asset in assets:\n",
    "    ticker=yf.Ticker(asset)\n",
    "    try:\n",
    "        sus=ticker.get_sustainability().to_dict()        \n",
    "        res={}\n",
    "        res['environmentScore']=sus['esgScores']['environmentScore']\n",
    "        res['socialScore']=sus['esgScores']['socialScore']\n",
    "        res['governanceScore']=sus['esgScores']['governanceScore']\n",
    "        res['peerEnvironmentPerformance']=sus['esgScores']['peerEnvironmentPerformance']\n",
    "        res['peerGovernancePerformance']=sus['esgScores']['peerGovernancePerformance']\n",
    "        res['peerSocialPerformance']=sus['esgScores']['peerSocialPerformance']\n",
    "        d=dict(ticker.get_fast_info())\n",
    "        res['currency']=d['currency']\n",
    "        res['marketCap']=d['marketCap']\n",
    "        i=ticker.get_info()\n",
    "        res['country']=i['country']\n",
    "        res['industry']=i['industry']\n",
    "        res['sector']=i['sector']\n",
    "        res['fullTimeEmployees']=i['fullTimeEmployees']\n",
    "        res['region']=i['region']\n",
    "        res['ebitda']=i['ebitda']\n",
    "        res['totalDebt']=i['totalDebt']\n",
    "        res['overallRisk']=i['overallRisk']\n",
    "        df=ticker.history(period='3y')\n",
    "        df.set_index(df.index.date.astype(str), inplace=True)\n",
    "        res['history']=df['Close'].to_dict()\n",
    "    except Exception as e:\n",
    "        print(asset,e)\n",
    "        continue\n",
    "    print(asset,'OK')\n",
    "    results[asset]=res\n",
    "output={}\n",
    "output['input_data']={}\n",
    "ouput['input_data']['assets']=results\n",
    "output['input_data']['num_assets']=len(results)\n",
    "import json\n",
    "# Guardamos el diccionario en un archivo de texto (JSON)\n",
    "with open('input.json', 'w') as file:\n",
    "    json.dump(results, file, indent=4)"
   ]
  }
 ],
 "metadata": {
  "kernelspec": {
   "display_name": "Python 3 (ipykernel)",
   "language": "python",
   "name": "python3"
  },
  "language_info": {
   "codemirror_mode": {
    "name": "ipython",
    "version": 3
   },
   "file_extension": ".py",
   "mimetype": "text/x-python",
   "name": "python",
   "nbconvert_exporter": "python",
   "pygments_lexer": "ipython3",
   "version": "3.12.2"
  }
 },
 "nbformat": 4,
 "nbformat_minor": 5
}
