{
 "cells": [
  {
   "cell_type": "markdown",
   "id": "98f33cfd",
   "metadata": {},
   "source": [
    "# Qubit assigment process"
   ]
  },
  {
   "cell_type": "markdown",
   "id": "95558bd4",
   "metadata": {},
   "source": [
    "## 1. Find the Δd between the smallest and biggest amount of qubits"
   ]
  },
  {
   "cell_type": "code",
   "execution_count": 1,
   "id": "8e48b2ee",
   "metadata": {},
   "outputs": [],
   "source": [
    "import math\n",
    "\n",
    "def deltaD(Pmax, Pmin):\n",
    "    deltaD = math.log((Pmax/Pmin), 2)\n",
    "    return deltaD"
   ]
  },
  {
   "cell_type": "markdown",
   "id": "adf7110b",
   "metadata": {},
   "source": [
    "## 2. and 3. Separate in d pieces and linearly assign the assets to Δd"
   ]
  },
  {
   "cell_type": "code",
   "execution_count": null,
   "id": "8ed4e513",
   "metadata": {},
   "outputs": [],
   "source": [
    "def separationAndAssignement(deltaD, assets): # assets is a list of the prices \n",
    "    Pmax = max(assets)\n",
    "    Pmin = min(assets)\n",
    "    t = (Pmax-Pmin)/deltaD\n",
    "    separation = [[] for _ in range(deltaD)]\n",
    "    for asset in assets :\n",
    "        \n"
   ]
  },
  {
   "cell_type": "markdown",
   "id": "9381ade0",
   "metadata": {},
   "source": [
    "## 4. Find Q"
   ]
  },
  {
   "cell_type": "code",
   "execution_count": null,
   "id": "b5e97d69",
   "metadata": {},
   "outputs": [],
   "source": []
  }
 ],
 "metadata": {
  "kernelspec": {
   "display_name": "base",
   "language": "python",
   "name": "python3"
  },
  "language_info": {
   "codemirror_mode": {
    "name": "ipython",
    "version": 3
   },
   "file_extension": ".py",
   "mimetype": "text/x-python",
   "name": "python",
   "nbconvert_exporter": "python",
   "pygments_lexer": "ipython3",
   "version": "3.12.9"
  }
 },
 "nbformat": 4,
 "nbformat_minor": 5
}
